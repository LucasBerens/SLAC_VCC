{
 "cells": [
  {
   "cell_type": "markdown",
   "metadata": {},
   "source": [
    "# 1. yaml file to beam generator"
   ]
  },
  {
   "cell_type": "code",
   "execution_count": null,
   "metadata": {},
   "outputs": [],
   "source": [
    "# import create_beam function from module\n",
    "import numpy\n",
    "\n",
    "from VCC_ML import create_beam"
   ]
  },
  {
   "cell_type": "markdown",
   "metadata": {},
   "source": [
    "#### You can add/change parameters in any order"
   ]
  },
  {
   "cell_type": "code",
   "execution_count": null,
   "metadata": {},
   "outputs": [],
   "source": [
    "file = 'data/rad.gaussian.in.yaml'\n",
    "parameters = dict({'n_particle':123456, \n",
    "          'r_dist:sigma_xy:units':'mm', \n",
    "          'r_dist:sigma_xy:value': 3.14,\n",
    "          'start:MTE:units':'meV',\n",
    "          'total_charge:units':'pC',\n",
    "          't_dist:min_t:units':'ys',\n",
    "          't_dist:min_t:value':2718,\n",
    "          'start:MTE:value':0.511,\n",
    "          'start:MTE:units':'eV'\n",
    "         })\n",
    "\n",
    "create_beam(file, parameters)"
   ]
  },
  {
   "cell_type": "markdown",
   "metadata": {},
   "source": [
    "#### It also catches some errors/conditions"
   ]
  },
  {
   "cell_type": "code",
   "execution_count": null,
   "metadata": {
    "scrolled": true
   },
   "outputs": [],
   "source": [
    "# No parameters given\n",
    "create_beam(file)\n",
    "\n",
    "# Invalid parameter name\n",
    "par = dict({'N_particle':1234})\n",
    "create_beam(file, par)"
   ]
  },
  {
   "cell_type": "markdown",
   "metadata": {},
   "source": [
    "#### List of correctly-formatted parameters for convenience"
   ]
  },
  {
   "cell_type": "code",
   "execution_count": null,
   "metadata": {},
   "outputs": [],
   "source": [
    "parameters_list = [['n_particle'], \n",
    "                   ['output:file'],['output:type'], \n",
    "                   ['r_dist:sigma_xy:units'],['r_dist:sigma_xy:value'],['r_dist:type'],\n",
    "                   ['random_type'],\n",
    "                   ['start:MTE:units'],['start:MTE:value'],['start:type:cathode'],\n",
    "                   ['t_dist:max_t:units'],['t_dist:max_t:value'],['t_dist:min_t:units'],['t_dist:min_t:value'],['t_dist:type'],\n",
    "                   ['total_charge:units'],['total_charge:value']]"
   ]
  },
  {
   "cell_type": "markdown",
   "metadata": {},
   "source": [
    "# 2. gen to histogram\n",
    "\n",
    "#### The output of create_beam can be used in show_histogram to display a 2d image of the beam/original yaml file"
   ]
  },
  {
   "cell_type": "code",
   "execution_count": null,
   "metadata": {
    "scrolled": false
   },
   "outputs": [],
   "source": [
    "import VCC_ML\n",
    "\n",
    "files = ['data/rad.uniform.in.yaml',\n",
    "         'data/rad.trunc.gaussian.in.yaml',\n",
    "         'data/rad.file.in.yaml',\n",
    "         'data/rad.gaussian.in.yaml']\n",
    "bins = 150\n",
    "\n",
    "for file in files:\n",
    "    gen = VCC_ML.create_beam(file)\n",
    "    VCC_ML.show_histogram(gen, bins, figsize=[6.4, 4.8], title=file)"
   ]
  },
  {
   "cell_type": "markdown",
   "metadata": {},
   "source": [
    "#### you can also use the marginal_plot function from pmd_beamphysics to plot axes other than x,y"
   ]
  },
  {
   "cell_type": "code",
   "execution_count": null,
   "metadata": {},
   "outputs": [],
   "source": [
    "file = 'data/rad.gaussian.in.yaml'\n",
    "beam = create_beam(file, parameters)\n",
    "\n",
    "VCC_ML.use_marginal_plot(beam, key1='x', key2='y')\n",
    "VCC_ML.use_marginal_plot(beam, key1='x', key2='energy')\n",
    "VCC_ML.use_marginal_plot(beam, key1='t', key2='p')"
   ]
  },
  {
   "cell_type": "code",
   "execution_count": null,
   "metadata": {},
   "outputs": [],
   "source": []
  }
 ],
 "metadata": {
  "kernelspec": {
   "display_name": "Python (SLAC)",
   "language": "python",
   "name": "slac"
  },
  "language_info": {
   "codemirror_mode": {
    "name": "ipython",
    "version": 3
   },
   "file_extension": ".py",
   "mimetype": "text/x-python",
   "name": "python",
   "nbconvert_exporter": "python",
   "pygments_lexer": "ipython3",
   "version": "3.8.3"
  }
 },
 "nbformat": 4,
 "nbformat_minor": 4
}
