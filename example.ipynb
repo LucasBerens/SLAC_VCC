{
 "cells": [
  {
   "cell_type": "markdown",
   "metadata": {},
   "source": [
    "# 1. yaml file to beam generator"
   ]
  },
  {
   "cell_type": "code",
   "execution_count": 1,
   "metadata": {},
   "outputs": [
    {
     "ename": "ModuleNotFoundError",
     "evalue": "No module named 'distgen'",
     "output_type": "error",
     "traceback": [
      "\u001b[1;31m---------------------------------------------------------------------------\u001b[0m",
      "\u001b[1;31mModuleNotFoundError\u001b[0m                       Traceback (most recent call last)",
      "\u001b[1;32m<ipython-input-1-1b0484e54927>\u001b[0m in \u001b[0;36m<module>\u001b[1;34m\u001b[0m\n\u001b[0;32m      1\u001b[0m \u001b[1;31m# import create_beam function from module\u001b[0m\u001b[1;33m\u001b[0m\u001b[1;33m\u001b[0m\u001b[1;33m\u001b[0m\u001b[0m\n\u001b[0;32m      2\u001b[0m \u001b[1;33m\u001b[0m\u001b[0m\n\u001b[1;32m----> 3\u001b[1;33m \u001b[1;32mfrom\u001b[0m \u001b[0mVCC_ML\u001b[0m \u001b[1;32mimport\u001b[0m \u001b[0mcreate_beam\u001b[0m\u001b[1;33m\u001b[0m\u001b[1;33m\u001b[0m\u001b[0m\n\u001b[0m",
      "\u001b[1;32m~\\Desktop\\SLAC\\Github\\SLAC_VCC\\VCC_ML.py\u001b[0m in \u001b[0;36m<module>\u001b[1;34m\u001b[0m\n\u001b[1;32m----> 1\u001b[1;33m \u001b[1;32mfrom\u001b[0m \u001b[0mdistgen\u001b[0m \u001b[1;32mimport\u001b[0m \u001b[0mGenerator\u001b[0m\u001b[1;33m\u001b[0m\u001b[1;33m\u001b[0m\u001b[0m\n\u001b[0m\u001b[0;32m      2\u001b[0m \u001b[1;32mimport\u001b[0m \u001b[0mnumpy\u001b[0m \u001b[1;32mas\u001b[0m \u001b[0mnp\u001b[0m\u001b[1;33m\u001b[0m\u001b[1;33m\u001b[0m\u001b[0m\n\u001b[0;32m      3\u001b[0m \u001b[1;32mimport\u001b[0m \u001b[0mmatplotlib\u001b[0m\u001b[1;33m.\u001b[0m\u001b[0mpyplot\u001b[0m \u001b[1;32mas\u001b[0m \u001b[0mplt\u001b[0m\u001b[1;33m\u001b[0m\u001b[1;33m\u001b[0m\u001b[0m\n\u001b[0;32m      4\u001b[0m \u001b[1;33m\u001b[0m\u001b[0m\n\u001b[0;32m      5\u001b[0m \u001b[1;32mdef\u001b[0m \u001b[0mcreate_beam\u001b[0m\u001b[1;33m(\u001b[0m\u001b[0mfile\u001b[0m\u001b[1;33m,\u001b[0m \u001b[0mparameters_dict\u001b[0m\u001b[1;33m=\u001b[0m\u001b[1;32mNone\u001b[0m\u001b[1;33m)\u001b[0m\u001b[1;33m:\u001b[0m\u001b[1;33m\u001b[0m\u001b[1;33m\u001b[0m\u001b[0m\n",
      "\u001b[1;31mModuleNotFoundError\u001b[0m: No module named 'distgen'"
     ]
    }
   ],
   "source": [
    "# import create_beam function from module\n",
    "\n",
    "from VCC_ML import create_beam"
   ]
  },
  {
   "cell_type": "markdown",
   "metadata": {},
   "source": [
    "#### You can add/change parameters in any order"
   ]
  },
  {
   "cell_type": "code",
   "execution_count": null,
   "metadata": {},
   "outputs": [],
   "source": [
    "file = 'data/rad.gaussian.in.yaml'\n",
    "parameters = dict({'n_particle':123456, \n",
    "          'r_dist:sigma_xy:units':'mm', \n",
    "          'r_dist:sigma_xy:value': 3.14,\n",
    "          'start:MTE:units':'meV',\n",
    "          'total_charge:units':'pC',\n",
    "          't_dist:min_t:units':'ys',\n",
    "          't_dist:min_t:value':2718,\n",
    "          'start:MTE:value':0.511,\n",
    "          'start:MTE:units':'eV'\n",
    "         })\n",
    "\n",
    "create_beam(file, parameters)"
   ]
  },
  {
   "cell_type": "markdown",
   "metadata": {},
   "source": [
    "#### It also catches some errors/conditions"
   ]
  },
  {
   "cell_type": "code",
   "execution_count": null,
   "metadata": {
    "scrolled": true
   },
   "outputs": [],
   "source": [
    "# No parameters given\n",
    "create_beam(file)\n",
    "\n",
    "# Invalid parameter name\n",
    "par = dict({'N_particle':1234})\n",
    "create_beam(file, par)"
   ]
  },
  {
   "cell_type": "markdown",
   "metadata": {},
   "source": [
    "#### List of correctly-formatted parameters for convenience"
   ]
  },
  {
   "cell_type": "code",
   "execution_count": null,
   "metadata": {},
   "outputs": [],
   "source": [
    "parameters_list = [['n_particle'], \n",
    "                   ['output:file'],['output:type'], \n",
    "                   ['r_dist:sigma_xy:units'],['r_dist:sigma_xy:value'],['r_dist:type'],\n",
    "                   ['random_type'],\n",
    "                   ['start:MTE:units'],['start:MTE:value'],['start:type:cathode'],\n",
    "                   ['t_dist:max_t:units'],['t_dist:max_t:value'],['t_dist:min_t:units'],['t_dist:min_t:value'],['t_dist:type'],\n",
    "                   ['total_charge:units'],['total_charge:value']]"
   ]
  },
  {
   "cell_type": "markdown",
   "metadata": {},
   "source": [
    "# 2. gen to histogram\n",
    "\n",
    "#### The output of create_beam can be used in show_histogram to display a 2d image of the beam/original yaml file"
   ]
  },
  {
   "cell_type": "code",
   "execution_count": null,
   "metadata": {
    "scrolled": false
   },
   "outputs": [],
   "source": [
    "import VCC_ML\n",
    "\n",
    "files = ['data/rad.uniform.in.yaml',\n",
    "         'data/rad.trunc.gaussian.in.yaml',\n",
    "         'data/rad.file.in.yaml',\n",
    "         'data/rad.gaussian.in.yaml']\n",
    "bins = 150\n",
    "\n",
    "for file in files:\n",
    "    gen = VCC_ML.create_beam(file)\n",
    "    VCC_ML.show_histogram(gen, bins, figsize=[6.4, 4.8], title=file)"
   ]
  },
  {
   "cell_type": "code",
   "execution_count": null,
   "metadata": {},
   "outputs": [],
   "source": []
  }
 ],
 "metadata": {
  "kernelspec": {
   "display_name": "Python 3",
   "language": "python",
   "name": "python3"
  },
  "language_info": {
   "codemirror_mode": {
    "name": "ipython",
    "version": 3
   },
   "file_extension": ".py",
   "mimetype": "text/x-python",
   "name": "python",
   "nbconvert_exporter": "python",
   "pygments_lexer": "ipython3",
   "version": "3.7.6"
  }
 },
 "nbformat": 4,
 "nbformat_minor": 4
}
