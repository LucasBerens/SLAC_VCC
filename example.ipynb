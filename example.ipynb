{
 "cells": [
  {
   "cell_type": "markdown",
   "metadata": {},
   "source": [
    "# yaml file to beam generator"
   ]
  },
  {
   "cell_type": "code",
   "execution_count": null,
   "metadata": {},
   "outputs": [],
   "source": [
    "# import module\n",
    "\n",
    "from yaml_to_beam import create_beam"
   ]
  },
  {
   "cell_type": "markdown",
   "metadata": {},
   "source": [
    "#### You can add/change parameters in any order"
   ]
  },
  {
   "cell_type": "code",
   "execution_count": null,
   "metadata": {},
   "outputs": [],
   "source": [
    "file = 'data/rad.gaussian.in.yaml'\n",
    "parameters = dict({'n_particle':123456, \n",
    "          'r_dist:sigma_xy:units':'mm', \n",
    "          'r_dist:sigma_xy:value': 3.14,\n",
    "          'start:MTE:units':'meV',\n",
    "          'total_charge:units':'pC',\n",
    "          't_dist:min_t:units':'ys',\n",
    "          't_dist:min_t:value':2718,\n",
    "          'start:MTE:value':0.511,\n",
    "          'start:MTE:units':'eV'\n",
    "         })\n",
    "\n",
    "create_beam(file, parameters)"
   ]
  },
  {
   "cell_type": "markdown",
   "metadata": {},
   "source": [
    "#### It also catches some errors/conditions"
   ]
  },
  {
   "cell_type": "code",
   "execution_count": null,
   "metadata": {
    "scrolled": true
   },
   "outputs": [],
   "source": [
    "# No parameters given\n",
    "create_beam(file)\n",
    "\n",
    "# Invalid parameter name\n",
    "par = dict({'N_particle':1234})\n",
    "create_beam(file, par)"
   ]
  },
  {
   "cell_type": "markdown",
   "metadata": {},
   "source": [
    "#### List of correctly-formatted parameters for convenience"
   ]
  },
  {
   "cell_type": "code",
   "execution_count": null,
   "metadata": {},
   "outputs": [],
   "source": [
    "parameters_list = [['n_particle'], \n",
    "                   ['output:file'],['output:type'], \n",
    "                   ['r_dist:sigma_xy:units'],['r_dist:sigma_xy:value'],['r_dist:type'],\n",
    "                   ['random_type'],\n",
    "                   ['start:MTE:units'],['start:MTE:value'],['start:type:cathode'],\n",
    "                   ['t_dist:max_t:units'],['t_dist:max_t:value'],['t_dist:min_t:units'],['t_dist:min_t:value'],['t_dist:type'],\n",
    "                   ['total_charge:units'],['total_charge:value']]"
   ]
  },
  {
   "cell_type": "code",
   "execution_count": null,
   "metadata": {},
   "outputs": [],
   "source": []
  }
 ],
 "metadata": {
  "kernelspec": {
   "display_name": "Python 3",
   "language": "python",
   "name": "python3"
  },
  "language_info": {
   "codemirror_mode": {
    "name": "ipython",
    "version": 3
   },
   "file_extension": ".py",
   "mimetype": "text/x-python",
   "name": "python",
   "nbconvert_exporter": "python",
   "pygments_lexer": "ipython3",
   "version": "3.8.3"
  }
 },
 "nbformat": 4,
 "nbformat_minor": 4
}
